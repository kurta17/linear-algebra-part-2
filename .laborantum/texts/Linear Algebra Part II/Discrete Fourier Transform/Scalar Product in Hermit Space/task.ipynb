{
 "cells": [
  {
   "cell_type": "code",
   "execution_count": null,
   "metadata": {},
   "outputs": [],
   "source": [
    "import numpy as np\n",
    "import json_tricks"
   ]
  },
  {
   "cell_type": "code",
   "execution_count": null,
   "metadata": {},
   "outputs": [],
   "source": [
    "\n",
    "def norm(vector):\n",
    "    return np.linalg.norm(vector)\n",
    "\n",
    "def scalar_product(u, v):\n",
    "    return np.vdot(u, v)\n",
    "\n",
    "def cosine_similarity(u, v):\n",
    "    return np.vdot(u, v) / (np.linalg.norm(u) * np.linalg.norm(v))\n",
    "\n",
    "\n",
    "\n",
    "u1 = np.array([1, 2, 3])\n",
    "v1 = np.array([1, -2, 3])\n",
    "\n",
    "u2 = np.array([1j, 2j, 3j])\n",
    "v2 = np.array([1j, -2j, 3j])\n",
    "\n",
    "u3 = np.array([1 + 1j, 1 - 1j, 1 + 2j])\n",
    "v3 = np.array([1j, 1j, 1j])\n",
    "\n",
    "\n",
    "\n",
    "answer = {\n",
    "    'task1': {\n",
    "        '||u||': norm(u1),\n",
    "        '||v||': norm(v1),\n",
    "        '<u, v>': scalar_product(u1, v1),\n",
    "        'cos': cosine_similarity(u1, v1),\n",
    "    },\n",
    "    'task2': {\n",
    "        '||u||': norm(u2),\n",
    "        '||v||': norm(v2),\n",
    "        '<u, v>': scalar_product(u2, v2),\n",
    "        'cos': cosine_similarity(u2, v2),\n",
    "    },\n",
    "    'task3': {\n",
    "        '||u||': norm(u3),\n",
    "        '||v||': norm(v3),\n",
    "        '<u, v>': scalar_product(u3, v3),\n",
    "        'cos': cosine_similarity(u3, v3),\n",
    "    },\n",
    "}\n",
    "\n",
    "\n",
    "\n",
    "\n",
    "\n",
    "json_tricks.dump(answer, '.answer.json')"
   ]
  }
 ],
 "metadata": {
  "kernelspec": {
   "display_name": "Python 3",
   "language": "python",
   "name": "python3"
  },
  "language_info": {
   "codemirror_mode": {
    "name": "ipython",
    "version": 3
   },
   "file_extension": ".py",
   "mimetype": "text/x-python",
   "name": "python",
   "nbconvert_exporter": "python",
   "pygments_lexer": "ipython3",
   "version": "3.11.10"
  }
 },
 "nbformat": 4,
 "nbformat_minor": 2
}
