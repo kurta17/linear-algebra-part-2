{
 "cells": [
  {
   "cell_type": "code",
   "execution_count": null,
   "metadata": {},
   "outputs": [],
   "source": [
    "import numpy as np\n",
    "import json_tricks"
   ]
  },
  {
   "cell_type": "code",
   "execution_count": null,
   "metadata": {},
   "outputs": [],
   "source": [
    "k = np.arange(100)\n",
    "\n",
    "coefficients_1 = np.zeros(100, dtype=complex)\n",
    "coefficients_1[0] = 1  \n",
    "\n",
    "coefficients_2 = np.zeros(100, dtype=complex)\n",
    "for n in k:\n",
    "    if n == 0:\n",
    "        coefficients_2[n] = (np.exp(1) - 1)  \n",
    "    else:\n",
    "        coefficients_2[n] = (np.exp(1) - 1) / (2 * np.pi * 1j * n)\n",
    "\n",
    "coefficients_3 = np.zeros(100, dtype=complex)\n",
    "for n in k:\n",
    "    if n == 0:\n",
    "        coefficients_3[n] = -1 / 6 \n",
    "    else:\n",
    "        coefficients_3[n] = (2 - 2 * np.cos(2 * np.pi * n) - 2 * np.pi * n * np.sin(2 * np.pi * n)) / (2 * np.pi * n)**2\n",
    "\n",
    "answer = {\n",
    "    'task1': coefficients_1,\n",
    "    'task2': coefficients_2,\n",
    "    'task3': coefficients_3\n",
    "}\n",
    "\n",
    "json_tricks.dump(answer, '.answer.json')"
   ]
  }
 ],
 "metadata": {
  "kernelspec": {
   "display_name": "Python 3",
   "language": "python",
   "name": "python3"
  },
  "language_info": {
   "codemirror_mode": {
    "name": "ipython",
    "version": 3
   },
   "file_extension": ".py",
   "mimetype": "text/x-python",
   "name": "python",
   "nbconvert_exporter": "python",
   "pygments_lexer": "ipython3",
   "version": "3.11.10"
  }
 },
 "nbformat": 4,
 "nbformat_minor": 2
}
