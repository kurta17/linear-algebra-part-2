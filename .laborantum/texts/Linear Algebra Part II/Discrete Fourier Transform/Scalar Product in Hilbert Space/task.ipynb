{
 "cells": [
  {
   "cell_type": "code",
   "execution_count": 1,
   "metadata": {},
   "outputs": [],
   "source": [
    "import numpy as np\n",
    "import json_tricks"
   ]
  },
  {
   "cell_type": "code",
   "execution_count": 2,
   "metadata": {},
   "outputs": [
    {
     "data": {
      "text/plain": [
       "'{\"task1\": {\"||x||\": 0.5773502691896257, \"||x^2||\": 0.4472135954999579, \"<x, x^2>\": 0.25, \"cos\": 0.9682458365518544}, \"task2\": {\"||sin x||\": 0.5221835341080563, \"||cos x||\": 0.8528331353239158, \"<sin x, cos x>\": 0.3540367091367856, \"cos\": 0.794988884229138}, \"task3\": {\"||exp x||\": 1.7873242709327608, \"||sin x||\": 0.5221835341080563, \"<exp x, sin x>\": 0.9093306736314786, \"cos\": 0.9743058605971802}}'"
      ]
     },
     "execution_count": 2,
     "metadata": {},
     "output_type": "execute_result"
    }
   ],
   "source": [
    "\n",
    "answer = {\n",
    "    'task1': {\n",
    "        '||x||': float(\n",
    "            0.5773502691896257\n",
    "        ),\n",
    "        '||x^2||': float(\n",
    "            0.4472135954999579\n",
    "        ),\n",
    "        '<x, x^2>': float(\n",
    "            0.25\n",
    "        ),\n",
    "        'cos': float(\n",
    "            0.9682458365518544\n",
    "        ),\n",
    "    },\n",
    "    'task2': {\n",
    "        '||sin x||': float(\n",
    "            0.5221835341080563\n",
    "        ),\n",
    "        '||cos x||': float(\n",
    "            0.8528331353239158\n",
    "        ),\n",
    "        '<sin x, cos x>': float(\n",
    "            0.3540367091367856\n",
    "        ),\n",
    "        'cos': float(\n",
    "            0.794988884229138\n",
    "        ),\n",
    "    },\n",
    "    'task3': {\n",
    "        '||exp x||': float(\n",
    "            1.7873242709327608\n",
    "        ),\n",
    "        '||sin x||': float(\n",
    "            0.5221835341080563\n",
    "        ),\n",
    "        '<exp x, sin x>': float(\n",
    "            0.9093306736314786\n",
    "        ),\n",
    "        'cos': float(\n",
    "            0.9743058605971802\n",
    "        ),\n",
    "    },\n",
    "}\n",
    "\n",
    "\n",
    "\n",
    "\n",
    "\n",
    "\n",
    "json_tricks.dump(answer, '.answer.json')"
   ]
  }
 ],
 "metadata": {
  "kernelspec": {
   "display_name": "Python (Container)",
   "language": "python",
   "name": "container_env"
  },
  "language_info": {
   "codemirror_mode": {
    "name": "ipython",
    "version": 3
   },
   "file_extension": ".py",
   "mimetype": "text/x-python",
   "name": "python",
   "nbconvert_exporter": "python",
   "pygments_lexer": "ipython3",
   "version": "3.11.11"
  }
 },
 "nbformat": 4,
 "nbformat_minor": 2
}
