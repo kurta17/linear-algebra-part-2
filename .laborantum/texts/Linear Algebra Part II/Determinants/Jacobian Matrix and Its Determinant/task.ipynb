{
 "cells": [
  {
   "cell_type": "code",
   "execution_count": null,
   "metadata": {},
   "outputs": [],
   "source": [
    "# Install the numpy package\n",
    "%pip install numpy\n",
    "\n",
    "import numpy as np\n",
    "import json_tricks"
   ]
  },
  {
   "cell_type": "code",
   "execution_count": null,
   "metadata": {},
   "outputs": [
    {
     "ename": "",
     "evalue": "",
     "output_type": "error",
     "traceback": [
      "\u001b[1;31mRunning cells with 'Python 3.11.2' requires the ipykernel package.\n",
      "\u001b[1;31mRun the following command to install 'ipykernel' into the Python environment. \n",
      "\u001b[1;31mCommand: '/usr/bin/python3 -m pip install ipykernel -U --user --force-reinstall'"
     ]
    }
   ],
   "source": [
    "def task_1(x, y):\n",
    "    \n",
    "    J = np.array(\n",
    "    [[2*x, 1], \n",
    "    [y, x]]   \n",
    ")\n",
    "    j1 = np.array(\n",
    "    [[2*x, -1], \n",
    "    [y, x]]   \n",
    ")\n",
    "    \n",
    "    det_J = (2 * x**2 + y)\n",
    "    return J, det_J\n",
    "\n",
    "\n",
    "def task_2(r, phi):\n",
    "    J = np.array([\n",
    "        [np.sin(phi), r * np.cos(phi)],\n",
    "        [np.cos(phi), -r * np.sin(phi)]\n",
    "    ])\n",
    "    det_J = (-r)\n",
    "    return J, det_J"
   ]
  },
  {
   "cell_type": "code",
   "execution_count": null,
   "metadata": {},
   "outputs": [],
   "source": [
    "inputs = json_tricks.load('inputs.json')\n",
    "\n",
    "results = {\n",
    "    'task1': [],\n",
    "    'task2': []\n",
    "}\n",
    "\n",
    "for args in inputs['task1']:\n",
    "    print(inputs['task1'])\n",
    "    results['task1'].append(task_1(**args))\n",
    "\n",
    "for args in inputs['task2']:\n",
    "    results['task2'].append(task_2(**args))\n",
    "\n",
    "json_tricks.dump(results, '.answer.json')"
   ]
  }
 ],
 "metadata": {
  "kernelspec": {
   "display_name": "Python 3",
   "language": "python",
   "name": "python3"
  },
  "language_info": {
   "codemirror_mode": {
    "name": "ipython",
    "version": 3
   },
   "file_extension": ".py",
   "mimetype": "text/x-python",
   "name": "python",
   "nbconvert_exporter": "python",
   "pygments_lexer": "ipython3",
   "version": "3.11.2"
  }
 },
 "nbformat": 4,
 "nbformat_minor": 2
}
